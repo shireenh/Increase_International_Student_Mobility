{
 "cells": [
  {
   "cell_type": "code",
   "execution_count": 1,
   "metadata": {},
   "outputs": [],
   "source": [
    "import os\n",
    "os.chdir('../../')"
   ]
  },
  {
   "cell_type": "code",
   "execution_count": 2,
   "metadata": {},
   "outputs": [],
   "source": [
    "import pandas as pd\n",
    "import pandas_gbq\n",
    "import re\n",
    "from google.oauth2 import service_account"
   ]
  },
  {
   "cell_type": "code",
   "execution_count": 3,
   "metadata": {},
   "outputs": [],
   "source": [
    "SERVICE_ACCOUNT = 'private/bigquery-write-access.json'\n",
    "DATASET = 'student_counts'\n",
    "credentials = service_account.Credentials.from_service_account_file(SERVICE_ACCOUNT)"
   ]
  },
  {
   "cell_type": "markdown",
   "metadata": {},
   "source": [
    "# UNESCO Data"
   ]
  },
  {
   "cell_type": "markdown",
   "metadata": {},
   "source": [
    "## Countries Map"
   ]
  },
  {
   "cell_type": "code",
   "execution_count": 4,
   "metadata": {},
   "outputs": [],
   "source": [
    "path = 'data/unesco_unimelb_countries_map.csv'\n",
    "index_col = 'unesco_country'\n",
    "unesco_countries_map_df = pd.read_csv(path)\n",
    "#unesco_countries_map_df[index_col] = unesco_countries_map_df[index_col].apply(lambda s: re.sub(r\"^(the\\s)(.*)\", r\"\\2\", s))\n",
    "#unesco_countries_map_df.to_csv(path)"
   ]
  },
  {
   "cell_type": "code",
   "execution_count": 5,
   "metadata": {},
   "outputs": [
    {
     "name": "stderr",
     "output_type": "stream",
     "text": [
      "1it [00:05,  5.95s/it]\n"
     ]
    }
   ],
   "source": [
    "table_full_name = '{}.{}'.format(DATASET, 'unesco_unimelb_countries_map')\n",
    "unesco_countries_map_df.to_gbq(table_full_name, credentials.project_id, credentials=credentials, if_exists='replace')"
   ]
  },
  {
   "cell_type": "code",
   "execution_count": 6,
   "metadata": {},
   "outputs": [
    {
     "data": {
      "text/html": [
       "<div>\n",
       "<style scoped>\n",
       "    .dataframe tbody tr th:only-of-type {\n",
       "        vertical-align: middle;\n",
       "    }\n",
       "\n",
       "    .dataframe tbody tr th {\n",
       "        vertical-align: top;\n",
       "    }\n",
       "\n",
       "    .dataframe thead th {\n",
       "        text-align: right;\n",
       "    }\n",
       "</style>\n",
       "<table border=\"1\" class=\"dataframe\">\n",
       "  <thead>\n",
       "    <tr style=\"text-align: right;\">\n",
       "      <th></th>\n",
       "      <th>unimelb_country</th>\n",
       "    </tr>\n",
       "    <tr>\n",
       "      <th>unesco_country</th>\n",
       "      <th></th>\n",
       "    </tr>\n",
       "  </thead>\n",
       "  <tbody>\n",
       "    <tr>\n",
       "      <th>Afghanistan</th>\n",
       "      <td>Afghanistan</td>\n",
       "    </tr>\n",
       "    <tr>\n",
       "      <th>Albania</th>\n",
       "      <td>Albania</td>\n",
       "    </tr>\n",
       "    <tr>\n",
       "      <th>Algeria</th>\n",
       "      <td>Algeria</td>\n",
       "    </tr>\n",
       "    <tr>\n",
       "      <th>Andorra</th>\n",
       "      <td>Andorra</td>\n",
       "    </tr>\n",
       "    <tr>\n",
       "      <th>Angola</th>\n",
       "      <td>Angola</td>\n",
       "    </tr>\n",
       "  </tbody>\n",
       "</table>\n",
       "</div>"
      ],
      "text/plain": [
       "               unimelb_country\n",
       "unesco_country                \n",
       "Afghanistan        Afghanistan\n",
       "Albania                Albania\n",
       "Algeria                Algeria\n",
       "Andorra                Andorra\n",
       "Angola                  Angola"
      ]
     },
     "execution_count": 6,
     "metadata": {},
     "output_type": "execute_result"
    }
   ],
   "source": [
    "unesco_countries_map_df.set_index(index_col, inplace=True)\n",
    "unesco_countries_map_df.head()"
   ]
  },
  {
   "cell_type": "markdown",
   "metadata": {},
   "source": [
    "## Counts data"
   ]
  },
  {
   "cell_type": "code",
   "execution_count": 7,
   "metadata": {},
   "outputs": [
    {
     "name": "stdout",
     "output_type": "stream",
     "text": [
      "China\n"
     ]
    }
   ],
   "source": [
    "s = 'ASIA: Students from China, both sexes (number)'\n",
    "r = re.search('.*Students\\sfrom\\s(the\\s)?(.*),\\sboth.*', s)\n",
    "print(r.groups()[1])"
   ]
  },
  {
   "cell_type": "code",
   "execution_count": 8,
   "metadata": {},
   "outputs": [],
   "source": [
    "df = pd.read_csv('data/unesco_students_counts.csv')\n",
    "\n",
    "df['source_country_original'] = df.Indicator.apply(lambda s: re.search('.*Students\\sfrom\\s(the\\s)?(.*),\\sboth.*', s).groups()[1])\n",
    "df['students_count'] = df.Value.astype(int)\n",
    "\n",
    "del df['Indicator']\n",
    "del df['Value']\n"
   ]
  },
  {
   "cell_type": "code",
   "execution_count": 9,
   "metadata": {},
   "outputs": [],
   "source": [
    "df = df.join(unesco_countries_map_df, on='source_country_original')\n",
    "df.rename(columns={\"unimelb_country\": \"source_country\"}, inplace=True)\n",
    "df = df.join(unesco_countries_map_df, on='destination_country_original')\n",
    "df.rename(columns={\"unimelb_country\": \"destination_country\"}, inplace=True)"
   ]
  },
  {
   "cell_type": "code",
   "execution_count": 10,
   "metadata": {},
   "outputs": [
    {
     "name": "stdout",
     "output_type": "stream",
     "text": [
      "<class 'pandas.core.frame.DataFrame'>\n",
      "RangeIndex: 121328 entries, 0 to 121327\n",
      "Data columns (total 11 columns):\n",
      "EDULIT_IND                      121328 non-null int64\n",
      "destination_country_code        121328 non-null object\n",
      "destination_country_original    121328 non-null object\n",
      "year                            121328 non-null int64\n",
      "flad_codes                      3996 non-null object\n",
      "flags                           3996 non-null object\n",
      "is_imputed                      121328 non-null bool\n",
      "source_country_original         121328 non-null object\n",
      "students_count                  121328 non-null int64\n",
      "source_country                  121328 non-null object\n",
      "destination_country             121328 non-null object\n",
      "dtypes: bool(1), int64(3), object(7)\n",
      "memory usage: 9.4+ MB\n"
     ]
    }
   ],
   "source": [
    "df.info()"
   ]
  },
  {
   "cell_type": "code",
   "execution_count": 11,
   "metadata": {},
   "outputs": [
    {
     "data": {
      "text/html": [
       "<div>\n",
       "<style scoped>\n",
       "    .dataframe tbody tr th:only-of-type {\n",
       "        vertical-align: middle;\n",
       "    }\n",
       "\n",
       "    .dataframe tbody tr th {\n",
       "        vertical-align: top;\n",
       "    }\n",
       "\n",
       "    .dataframe thead th {\n",
       "        text-align: right;\n",
       "    }\n",
       "</style>\n",
       "<table border=\"1\" class=\"dataframe\">\n",
       "  <thead>\n",
       "    <tr style=\"text-align: right;\">\n",
       "      <th></th>\n",
       "      <th>EDULIT_IND</th>\n",
       "      <th>destination_country_code</th>\n",
       "      <th>destination_country_original</th>\n",
       "      <th>year</th>\n",
       "      <th>flad_codes</th>\n",
       "      <th>flags</th>\n",
       "      <th>is_imputed</th>\n",
       "      <th>source_country_original</th>\n",
       "      <th>students_count</th>\n",
       "      <th>source_country</th>\n",
       "      <th>destination_country</th>\n",
       "    </tr>\n",
       "  </thead>\n",
       "  <tbody>\n",
       "    <tr>\n",
       "      <th>0</th>\n",
       "      <td>26528</td>\n",
       "      <td>USA</td>\n",
       "      <td>United States of America</td>\n",
       "      <td>2016</td>\n",
       "      <td>NaN</td>\n",
       "      <td>NaN</td>\n",
       "      <td>False</td>\n",
       "      <td>China</td>\n",
       "      <td>309837</td>\n",
       "      <td>China</td>\n",
       "      <td>United States of America</td>\n",
       "    </tr>\n",
       "    <tr>\n",
       "      <th>1</th>\n",
       "      <td>26528</td>\n",
       "      <td>USA</td>\n",
       "      <td>United States of America</td>\n",
       "      <td>2015</td>\n",
       "      <td>NaN</td>\n",
       "      <td>NaN</td>\n",
       "      <td>False</td>\n",
       "      <td>China</td>\n",
       "      <td>291063</td>\n",
       "      <td>China</td>\n",
       "      <td>United States of America</td>\n",
       "    </tr>\n",
       "    <tr>\n",
       "      <th>2</th>\n",
       "      <td>26528</td>\n",
       "      <td>USA</td>\n",
       "      <td>United States of America</td>\n",
       "      <td>2014</td>\n",
       "      <td>NaN</td>\n",
       "      <td>NaN</td>\n",
       "      <td>False</td>\n",
       "      <td>China</td>\n",
       "      <td>260914</td>\n",
       "      <td>China</td>\n",
       "      <td>United States of America</td>\n",
       "    </tr>\n",
       "    <tr>\n",
       "      <th>3</th>\n",
       "      <td>26528</td>\n",
       "      <td>USA</td>\n",
       "      <td>United States of America</td>\n",
       "      <td>2013</td>\n",
       "      <td>NaN</td>\n",
       "      <td>NaN</td>\n",
       "      <td>False</td>\n",
       "      <td>China</td>\n",
       "      <td>225474</td>\n",
       "      <td>China</td>\n",
       "      <td>United States of America</td>\n",
       "    </tr>\n",
       "    <tr>\n",
       "      <th>4</th>\n",
       "      <td>26528</td>\n",
       "      <td>USA</td>\n",
       "      <td>United States of America</td>\n",
       "      <td>2012</td>\n",
       "      <td>NaN</td>\n",
       "      <td>NaN</td>\n",
       "      <td>False</td>\n",
       "      <td>China</td>\n",
       "      <td>210452</td>\n",
       "      <td>China</td>\n",
       "      <td>United States of America</td>\n",
       "    </tr>\n",
       "  </tbody>\n",
       "</table>\n",
       "</div>"
      ],
      "text/plain": [
       "   EDULIT_IND destination_country_code destination_country_original  year  \\\n",
       "0       26528                      USA     United States of America  2016   \n",
       "1       26528                      USA     United States of America  2015   \n",
       "2       26528                      USA     United States of America  2014   \n",
       "3       26528                      USA     United States of America  2013   \n",
       "4       26528                      USA     United States of America  2012   \n",
       "\n",
       "  flad_codes flags  is_imputed source_country_original  students_count  \\\n",
       "0        NaN   NaN       False                   China          309837   \n",
       "1        NaN   NaN       False                   China          291063   \n",
       "2        NaN   NaN       False                   China          260914   \n",
       "3        NaN   NaN       False                   China          225474   \n",
       "4        NaN   NaN       False                   China          210452   \n",
       "\n",
       "  source_country       destination_country  \n",
       "0          China  United States of America  \n",
       "1          China  United States of America  \n",
       "2          China  United States of America  \n",
       "3          China  United States of America  \n",
       "4          China  United States of America  "
      ]
     },
     "execution_count": 11,
     "metadata": {},
     "output_type": "execute_result"
    }
   ],
   "source": [
    "df.head()"
   ]
  },
  {
   "cell_type": "code",
   "execution_count": 12,
   "metadata": {},
   "outputs": [
    {
     "name": "stderr",
     "output_type": "stream",
     "text": [
      "1it [00:00,  1.34it/s]\n"
     ]
    }
   ],
   "source": [
    "table_full_name = '{}.{}'.format(DATASET, 'unesco_students_counts')\n",
    "df.to_gbq(table_full_name, credentials.project_id, credentials=credentials, if_exists='replace')"
   ]
  },
  {
   "cell_type": "markdown",
   "metadata": {},
   "source": [
    "# Country Specific Data"
   ]
  },
  {
   "cell_type": "markdown",
   "metadata": {},
   "source": [
    "## Countries Map"
   ]
  },
  {
   "cell_type": "code",
   "execution_count": 13,
   "metadata": {},
   "outputs": [
    {
     "data": {
      "text/html": [
       "<div>\n",
       "<style scoped>\n",
       "    .dataframe tbody tr th:only-of-type {\n",
       "        vertical-align: middle;\n",
       "    }\n",
       "\n",
       "    .dataframe tbody tr th {\n",
       "        vertical-align: top;\n",
       "    }\n",
       "\n",
       "    .dataframe thead th {\n",
       "        text-align: right;\n",
       "    }\n",
       "</style>\n",
       "<table border=\"1\" class=\"dataframe\">\n",
       "  <thead>\n",
       "    <tr style=\"text-align: right;\">\n",
       "      <th></th>\n",
       "      <th>country</th>\n",
       "      <th>region</th>\n",
       "      <th>uk_name</th>\n",
       "      <th>us_name</th>\n",
       "    </tr>\n",
       "  </thead>\n",
       "  <tbody>\n",
       "    <tr>\n",
       "      <th>0</th>\n",
       "      <td>Afghanistan</td>\n",
       "      <td>Southern and Central Asia</td>\n",
       "      <td>Afghanistan</td>\n",
       "      <td>Afghanistan</td>\n",
       "    </tr>\n",
       "    <tr>\n",
       "      <th>1</th>\n",
       "      <td>Albania</td>\n",
       "      <td>Southern and Eastern Europe</td>\n",
       "      <td>Albania</td>\n",
       "      <td>Albania</td>\n",
       "    </tr>\n",
       "    <tr>\n",
       "      <th>2</th>\n",
       "      <td>Algeria</td>\n",
       "      <td>North Africa and the Middle East</td>\n",
       "      <td>Algeria</td>\n",
       "      <td>Algeria</td>\n",
       "    </tr>\n",
       "    <tr>\n",
       "      <th>3</th>\n",
       "      <td>Andorra</td>\n",
       "      <td>Southern and Eastern Europe</td>\n",
       "      <td>Andorra</td>\n",
       "      <td>Andorra</td>\n",
       "    </tr>\n",
       "    <tr>\n",
       "      <th>4</th>\n",
       "      <td>Angola</td>\n",
       "      <td>Sub-Saharan Africa</td>\n",
       "      <td>Angola</td>\n",
       "      <td>Angola</td>\n",
       "    </tr>\n",
       "  </tbody>\n",
       "</table>\n",
       "</div>"
      ],
      "text/plain": [
       "       country                            region      uk_name      us_name\n",
       "0  Afghanistan         Southern and Central Asia  Afghanistan  Afghanistan\n",
       "1      Albania       Southern and Eastern Europe      Albania      Albania\n",
       "2      Algeria  North Africa and the Middle East      Algeria      Algeria\n",
       "3      Andorra       Southern and Eastern Europe      Andorra      Andorra\n",
       "4       Angola                Sub-Saharan Africa       Angola       Angola"
      ]
     },
     "execution_count": 13,
     "metadata": {},
     "output_type": "execute_result"
    }
   ],
   "source": [
    "df = pd.read_csv('data/countries_map.csv')\n",
    "df.head()"
   ]
  },
  {
   "cell_type": "code",
   "execution_count": 14,
   "metadata": {},
   "outputs": [
    {
     "name": "stderr",
     "output_type": "stream",
     "text": [
      "1it [00:06,  6.02s/it]\n"
     ]
    }
   ],
   "source": [
    "table_full_name = '{}.{}'.format(DATASET, 'uk_us_countries_map')\n",
    "df.to_gbq(table_full_name, credentials.project_id, credentials=credentials, if_exists='replace')"
   ]
  },
  {
   "cell_type": "code",
   "execution_count": 15,
   "metadata": {},
   "outputs": [
    {
     "data": {
      "text/html": [
       "<div>\n",
       "<style scoped>\n",
       "    .dataframe tbody tr th:only-of-type {\n",
       "        vertical-align: middle;\n",
       "    }\n",
       "\n",
       "    .dataframe tbody tr th {\n",
       "        vertical-align: top;\n",
       "    }\n",
       "\n",
       "    .dataframe thead th {\n",
       "        text-align: right;\n",
       "    }\n",
       "</style>\n",
       "<table border=\"1\" class=\"dataframe\">\n",
       "  <thead>\n",
       "    <tr style=\"text-align: right;\">\n",
       "      <th></th>\n",
       "      <th>canada_name</th>\n",
       "      <th>country</th>\n",
       "    </tr>\n",
       "  </thead>\n",
       "  <tbody>\n",
       "    <tr>\n",
       "      <th>0</th>\n",
       "      <td>Afghanistan</td>\n",
       "      <td>Afghanistan</td>\n",
       "    </tr>\n",
       "    <tr>\n",
       "      <th>1</th>\n",
       "      <td>Albania</td>\n",
       "      <td>Albania</td>\n",
       "    </tr>\n",
       "    <tr>\n",
       "      <th>2</th>\n",
       "      <td>Algeria</td>\n",
       "      <td>Algeria</td>\n",
       "    </tr>\n",
       "    <tr>\n",
       "      <th>3</th>\n",
       "      <td>Andorra</td>\n",
       "      <td>Andorra</td>\n",
       "    </tr>\n",
       "    <tr>\n",
       "      <th>4</th>\n",
       "      <td>Angola</td>\n",
       "      <td>Angola</td>\n",
       "    </tr>\n",
       "  </tbody>\n",
       "</table>\n",
       "</div>"
      ],
      "text/plain": [
       "   canada_name      country\n",
       "0  Afghanistan  Afghanistan\n",
       "1      Albania      Albania\n",
       "2      Algeria      Algeria\n",
       "3      Andorra      Andorra\n",
       "4       Angola       Angola"
      ]
     },
     "execution_count": 15,
     "metadata": {},
     "output_type": "execute_result"
    }
   ],
   "source": [
    "df = pd.read_csv('data/canada_countries_map.csv')\n",
    "df.head()"
   ]
  },
  {
   "cell_type": "code",
   "execution_count": 16,
   "metadata": {},
   "outputs": [
    {
     "name": "stderr",
     "output_type": "stream",
     "text": [
      "1it [00:06,  6.10s/it]\n"
     ]
    }
   ],
   "source": [
    "table_full_name = '{}.{}'.format(DATASET, 'can_countries_map')\n",
    "df.to_gbq(table_full_name, credentials.project_id, credentials=credentials, if_exists='replace')"
   ]
  },
  {
   "cell_type": "code",
   "execution_count": null,
   "metadata": {},
   "outputs": [],
   "source": []
  },
  {
   "cell_type": "markdown",
   "metadata": {},
   "source": [
    "## AUS ennrollments/commencements"
   ]
  },
  {
   "cell_type": "code",
   "execution_count": 17,
   "metadata": {},
   "outputs": [],
   "source": [
    "study_level_map = {\"Diploma, Associate, Advanced Dips\": \"Other\", \"UG\": \"UG\", \"HDCW\": \"PG\", \"RHD\": \"PG\"}"
   ]
  },
  {
   "cell_type": "code",
   "execution_count": 18,
   "metadata": {},
   "outputs": [
    {
     "data": {
      "text/html": [
       "<div>\n",
       "<style scoped>\n",
       "    .dataframe tbody tr th:only-of-type {\n",
       "        vertical-align: middle;\n",
       "    }\n",
       "\n",
       "    .dataframe tbody tr th {\n",
       "        vertical-align: top;\n",
       "    }\n",
       "\n",
       "    .dataframe thead th {\n",
       "        text-align: right;\n",
       "    }\n",
       "</style>\n",
       "<table border=\"1\" class=\"dataframe\">\n",
       "  <thead>\n",
       "    <tr style=\"text-align: right;\">\n",
       "      <th></th>\n",
       "      <th>year</th>\n",
       "      <th>country</th>\n",
       "      <th>study_level_original</th>\n",
       "      <th>study_level_he</th>\n",
       "      <th>broad_field_of_education</th>\n",
       "      <th>detailed_field_of_education</th>\n",
       "      <th>enrolments</th>\n",
       "      <th>commencements</th>\n",
       "      <th>study_level</th>\n",
       "    </tr>\n",
       "  </thead>\n",
       "  <tbody>\n",
       "    <tr>\n",
       "      <th>0</th>\n",
       "      <td>2007</td>\n",
       "      <td>Argentina</td>\n",
       "      <td>Bachelor Degree</td>\n",
       "      <td>UG</td>\n",
       "      <td>_Dual Qualification</td>\n",
       "      <td>_Dual Qualification</td>\n",
       "      <td>1</td>\n",
       "      <td>0</td>\n",
       "      <td>UG</td>\n",
       "    </tr>\n",
       "    <tr>\n",
       "      <th>1</th>\n",
       "      <td>2007</td>\n",
       "      <td>Argentina</td>\n",
       "      <td>Bachelor Degree</td>\n",
       "      <td>UG</td>\n",
       "      <td>Creative Arts</td>\n",
       "      <td>Audio Visual Studies</td>\n",
       "      <td>1</td>\n",
       "      <td>1</td>\n",
       "      <td>UG</td>\n",
       "    </tr>\n",
       "    <tr>\n",
       "      <th>2</th>\n",
       "      <td>2007</td>\n",
       "      <td>Argentina</td>\n",
       "      <td>Bachelor Degree</td>\n",
       "      <td>UG</td>\n",
       "      <td>Creative Arts</td>\n",
       "      <td>Creative Arts, n.f.d.</td>\n",
       "      <td>1</td>\n",
       "      <td>1</td>\n",
       "      <td>UG</td>\n",
       "    </tr>\n",
       "    <tr>\n",
       "      <th>3</th>\n",
       "      <td>2007</td>\n",
       "      <td>Argentina</td>\n",
       "      <td>Bachelor Degree</td>\n",
       "      <td>UG</td>\n",
       "      <td>Creative Arts</td>\n",
       "      <td>Music</td>\n",
       "      <td>1</td>\n",
       "      <td>1</td>\n",
       "      <td>UG</td>\n",
       "    </tr>\n",
       "    <tr>\n",
       "      <th>4</th>\n",
       "      <td>2007</td>\n",
       "      <td>Argentina</td>\n",
       "      <td>Bachelor Degree</td>\n",
       "      <td>UG</td>\n",
       "      <td>Creative Arts</td>\n",
       "      <td>Photography</td>\n",
       "      <td>1</td>\n",
       "      <td>1</td>\n",
       "      <td>UG</td>\n",
       "    </tr>\n",
       "  </tbody>\n",
       "</table>\n",
       "</div>"
      ],
      "text/plain": [
       "   year    country study_level_original study_level_he  \\\n",
       "0  2007  Argentina      Bachelor Degree             UG   \n",
       "1  2007  Argentina      Bachelor Degree             UG   \n",
       "2  2007  Argentina      Bachelor Degree             UG   \n",
       "3  2007  Argentina      Bachelor Degree             UG   \n",
       "4  2007  Argentina      Bachelor Degree             UG   \n",
       "\n",
       "  broad_field_of_education detailed_field_of_education  enrolments  \\\n",
       "0      _Dual Qualification         _Dual Qualification           1   \n",
       "1            Creative Arts        Audio Visual Studies           1   \n",
       "2            Creative Arts       Creative Arts, n.f.d.           1   \n",
       "3            Creative Arts                       Music           1   \n",
       "4            Creative Arts                 Photography           1   \n",
       "\n",
       "   commencements study_level  \n",
       "0              0          UG  \n",
       "1              1          UG  \n",
       "2              1          UG  \n",
       "3              1          UG  \n",
       "4              1          UG  "
      ]
     },
     "execution_count": 18,
     "metadata": {},
     "output_type": "execute_result"
    }
   ],
   "source": [
    "df = pd.read_csv('data/AUS_students_data.csv')\n",
    "df['study_level'] = df.study_level_he.apply(lambda x: study_level_map[x])\n",
    "df.head()"
   ]
  },
  {
   "cell_type": "code",
   "execution_count": 19,
   "metadata": {},
   "outputs": [
    {
     "name": "stderr",
     "output_type": "stream",
     "text": [
      "1it [00:01,  1.24s/it]\n"
     ]
    }
   ],
   "source": [
    "table_full_name = '{}.{}'.format(DATASET, 'aus_int_student_counts')\n",
    "df.to_gbq(table_full_name, credentials.project_id, credentials=credentials, if_exists='replace')"
   ]
  },
  {
   "cell_type": "markdown",
   "metadata": {},
   "source": [
    "\n",
    "## USA ennrollments"
   ]
  },
  {
   "cell_type": "code",
   "execution_count": 20,
   "metadata": {},
   "outputs": [],
   "source": [
    "df = pd.read_csv('data/USA_enrollments.csv', index_col=['country', 'year'])\n",
    "df.columns.name = 'study_level'\n",
    "df = df.stack()\n",
    "df.name = 'students_count'\n",
    "df = df.apply(lambda x: int(x.replace(',', ''))).reset_index()"
   ]
  },
  {
   "cell_type": "code",
   "execution_count": 21,
   "metadata": {},
   "outputs": [
    {
     "name": "stderr",
     "output_type": "stream",
     "text": [
      "1it [00:05,  5.37s/it]\n"
     ]
    }
   ],
   "source": [
    "table_full_name = '{}.{}'.format(DATASET, 'us_int_student_counts')\n",
    "df.to_gbq(table_full_name, credentials.project_id, credentials=credentials, if_exists='replace')"
   ]
  },
  {
   "cell_type": "markdown",
   "metadata": {},
   "source": [
    "## UK ennrollments"
   ]
  },
  {
   "cell_type": "code",
   "execution_count": 22,
   "metadata": {},
   "outputs": [],
   "source": [
    "study_level_map = {\"UG\": \"UG\", \"UG Other\": \"UG\", \"PG R\": \"PG\", \"PG CW\": \"PG\", \"PG Other\": \"PG\"}"
   ]
  },
  {
   "cell_type": "code",
   "execution_count": 23,
   "metadata": {},
   "outputs": [
    {
     "data": {
      "text/html": [
       "<div>\n",
       "<style scoped>\n",
       "    .dataframe tbody tr th:only-of-type {\n",
       "        vertical-align: middle;\n",
       "    }\n",
       "\n",
       "    .dataframe tbody tr th {\n",
       "        vertical-align: top;\n",
       "    }\n",
       "\n",
       "    .dataframe thead th {\n",
       "        text-align: right;\n",
       "    }\n",
       "</style>\n",
       "<table border=\"1\" class=\"dataframe\">\n",
       "  <thead>\n",
       "    <tr style=\"text-align: right;\">\n",
       "      <th></th>\n",
       "      <th>country</th>\n",
       "      <th>year</th>\n",
       "      <th>detailed_study_level</th>\n",
       "      <th>students_count</th>\n",
       "      <th>study_level</th>\n",
       "    </tr>\n",
       "  </thead>\n",
       "  <tbody>\n",
       "    <tr>\n",
       "      <th>0</th>\n",
       "      <td>Albania</td>\n",
       "      <td>2004/2005</td>\n",
       "      <td>PG R</td>\n",
       "      <td>30</td>\n",
       "      <td>PG</td>\n",
       "    </tr>\n",
       "    <tr>\n",
       "      <th>1</th>\n",
       "      <td>Albania</td>\n",
       "      <td>2004/2005</td>\n",
       "      <td>PG CW</td>\n",
       "      <td>55</td>\n",
       "      <td>PG</td>\n",
       "    </tr>\n",
       "    <tr>\n",
       "      <th>2</th>\n",
       "      <td>Albania</td>\n",
       "      <td>2004/2005</td>\n",
       "      <td>PG Other</td>\n",
       "      <td>15</td>\n",
       "      <td>PG</td>\n",
       "    </tr>\n",
       "    <tr>\n",
       "      <th>3</th>\n",
       "      <td>Albania</td>\n",
       "      <td>2004/2005</td>\n",
       "      <td>UG</td>\n",
       "      <td>115</td>\n",
       "      <td>UG</td>\n",
       "    </tr>\n",
       "    <tr>\n",
       "      <th>4</th>\n",
       "      <td>Albania</td>\n",
       "      <td>2004/2005</td>\n",
       "      <td>UG Other</td>\n",
       "      <td>20</td>\n",
       "      <td>UG</td>\n",
       "    </tr>\n",
       "  </tbody>\n",
       "</table>\n",
       "</div>"
      ],
      "text/plain": [
       "   country       year detailed_study_level  students_count study_level\n",
       "0  Albania  2004/2005                 PG R              30          PG\n",
       "1  Albania  2004/2005                PG CW              55          PG\n",
       "2  Albania  2004/2005             PG Other              15          PG\n",
       "3  Albania  2004/2005                   UG             115          UG\n",
       "4  Albania  2004/2005             UG Other              20          UG"
      ]
     },
     "execution_count": 23,
     "metadata": {},
     "output_type": "execute_result"
    }
   ],
   "source": [
    "df = pd.read_csv('data/UK_students_count.csv', index_col=['country', 'year'],\n",
    "                 encoding=\"utf-8\").fillna(0).astype(int)\n",
    "df.columns.name = 'detailed_study_level'\n",
    "df = df.stack()\n",
    "df.name = 'students_count'\n",
    "df = df.reset_index()\n",
    "df['study_level'] = df.detailed_study_level.apply(lambda x: study_level_map[x])\n",
    "df['country'] = df.country.str.strip()\n",
    "df.head()"
   ]
  },
  {
   "cell_type": "code",
   "execution_count": 24,
   "metadata": {},
   "outputs": [
    {
     "name": "stderr",
     "output_type": "stream",
     "text": [
      "1it [00:05,  5.68s/it]\n"
     ]
    }
   ],
   "source": [
    "table_full_name = '{}.{}'.format(DATASET, 'uk_int_student_counts')\n",
    "df.to_gbq(table_full_name, credentials.project_id, credentials=credentials, if_exists='replace')"
   ]
  },
  {
   "cell_type": "markdown",
   "metadata": {},
   "source": [
    "## Canada"
   ]
  },
  {
   "cell_type": "code",
   "execution_count": 25,
   "metadata": {},
   "outputs": [
    {
     "data": {
      "text/html": [
       "<div>\n",
       "<style scoped>\n",
       "    .dataframe tbody tr th:only-of-type {\n",
       "        vertical-align: middle;\n",
       "    }\n",
       "\n",
       "    .dataframe tbody tr th {\n",
       "        vertical-align: top;\n",
       "    }\n",
       "\n",
       "    .dataframe thead th {\n",
       "        text-align: right;\n",
       "    }\n",
       "</style>\n",
       "<table border=\"1\" class=\"dataframe\">\n",
       "  <thead>\n",
       "    <tr style=\"text-align: right;\">\n",
       "      <th></th>\n",
       "      <th>year</th>\n",
       "      <th>institution_type</th>\n",
       "      <th>country</th>\n",
       "      <th>students_count</th>\n",
       "    </tr>\n",
       "  </thead>\n",
       "  <tbody>\n",
       "    <tr>\n",
       "      <th>0</th>\n",
       "      <td>2000/2001</td>\n",
       "      <td>University</td>\n",
       "      <td>Greenland</td>\n",
       "      <td>0</td>\n",
       "    </tr>\n",
       "    <tr>\n",
       "      <th>1</th>\n",
       "      <td>2001/2002</td>\n",
       "      <td>University</td>\n",
       "      <td>Greenland</td>\n",
       "      <td>3</td>\n",
       "    </tr>\n",
       "    <tr>\n",
       "      <th>2</th>\n",
       "      <td>2002/2003</td>\n",
       "      <td>University</td>\n",
       "      <td>Greenland</td>\n",
       "      <td>0</td>\n",
       "    </tr>\n",
       "    <tr>\n",
       "      <th>3</th>\n",
       "      <td>2003/2004</td>\n",
       "      <td>University</td>\n",
       "      <td>Greenland</td>\n",
       "      <td>0</td>\n",
       "    </tr>\n",
       "    <tr>\n",
       "      <th>4</th>\n",
       "      <td>2004/2005</td>\n",
       "      <td>University</td>\n",
       "      <td>Greenland</td>\n",
       "      <td>0</td>\n",
       "    </tr>\n",
       "  </tbody>\n",
       "</table>\n",
       "</div>"
      ],
      "text/plain": [
       "        year institution_type    country  students_count\n",
       "0  2000/2001       University  Greenland               0\n",
       "1  2001/2002       University  Greenland               3\n",
       "2  2002/2003       University  Greenland               0\n",
       "3  2003/2004       University  Greenland               0\n",
       "4  2004/2005       University  Greenland               0"
      ]
     },
     "execution_count": 25,
     "metadata": {},
     "output_type": "execute_result"
    }
   ],
   "source": [
    "df = pd.read_csv('data/Canada_international_students.csv', encoding=\"utf-8\")\n",
    "df['students_count'] = df.students_count.fillna(0).astype(int)\n",
    "df['country'] = df.country.str.strip()\n",
    "df.head()"
   ]
  },
  {
   "cell_type": "code",
   "execution_count": 26,
   "metadata": {},
   "outputs": [
    {
     "name": "stderr",
     "output_type": "stream",
     "text": [
      "1it [00:06,  6.27s/it]\n"
     ]
    }
   ],
   "source": [
    "table_full_name = '{}.{}'.format(DATASET, 'canada_int_student_counts')\n",
    "df.to_gbq(table_full_name, credentials.project_id, credentials=credentials, if_exists='replace')"
   ]
  },
  {
   "cell_type": "code",
   "execution_count": null,
   "metadata": {},
   "outputs": [],
   "source": []
  }
 ],
 "metadata": {
  "hide_input": false,
  "kernelspec": {
   "display_name": "Python 3",
   "language": "python",
   "name": "python3"
  },
  "language_info": {
   "codemirror_mode": {
    "name": "ipython",
    "version": 3
   },
   "file_extension": ".py",
   "mimetype": "text/x-python",
   "name": "python",
   "nbconvert_exporter": "python",
   "pygments_lexer": "ipython3",
   "version": "3.6.7"
  },
  "toc": {
   "nav_menu": {},
   "number_sections": true,
   "sideBar": true,
   "skip_h1_title": false,
   "toc_cell": false,
   "toc_position": {},
   "toc_section_display": "block",
   "toc_window_display": true
  }
 },
 "nbformat": 4,
 "nbformat_minor": 2
}
