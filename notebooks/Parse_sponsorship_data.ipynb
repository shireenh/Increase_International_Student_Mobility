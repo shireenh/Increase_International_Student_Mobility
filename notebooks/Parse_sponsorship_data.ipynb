{
 "cells": [
  {
   "cell_type": "code",
   "execution_count": null,
   "metadata": {
    "collapsed": true,
    "deletable": true,
    "editable": true
   },
   "outputs": [],
   "source": [
    "import numpy as np\n",
    "import pandas as pd\n",
    "pd.options.display.precision = 2\n",
    "pd.options.display.max_columns = 50"
   ]
  },
  {
   "cell_type": "code",
   "execution_count": null,
   "metadata": {
    "collapsed": true,
    "deletable": true,
    "editable": true
   },
   "outputs": [],
   "source": [
    "import re\n",
    "import os\n",
    "os.chdir('../../')"
   ]
  },
  {
   "cell_type": "code",
   "execution_count": null,
   "metadata": {
    "collapsed": true,
    "deletable": true,
    "editable": true
   },
   "outputs": [],
   "source": [
    "%matplotlib inline\n",
    "import matplotlib\n",
    "import matplotlib.pyplot as plt\n",
    "matplotlib.rcParams['figure.figsize'] = [15, 10]"
   ]
  },
  {
   "cell_type": "code",
   "execution_count": null,
   "metadata": {
    "collapsed": true,
    "deletable": true,
    "editable": true
   },
   "outputs": [],
   "source": [
    "#import seaborn as sns\n",
    "import plotly\n",
    "import plotly.graph_objs as go\n",
    "from plotly.offline import download_plotlyjs, init_notebook_mode, plot, iplot\n",
    "init_notebook_mode(connected=True)"
   ]
  },
  {
   "cell_type": "markdown",
   "metadata": {
    "deletable": true,
    "editable": true
   },
   "source": [
    "# Read Predictors data"
   ]
  },
  {
   "cell_type": "code",
   "execution_count": null,
   "metadata": {
    "collapsed": true,
    "deletable": true,
    "editable": true
   },
   "outputs": [],
   "source": [
    "predictors_df = pd.read_csv('data/Primary_Commodity_Price_System_PCPS.csv', skiprows=1)"
   ]
  },
  {
   "cell_type": "code",
   "execution_count": null,
   "metadata": {
    "collapsed": true,
    "deletable": true,
    "editable": true
   },
   "outputs": [],
   "source": [
    "predictors_df['year'] = predictors_df.Date.apply(lambda x: int(x.split(' ')[1]))\n",
    "#predictors_df.head()"
   ]
  },
  {
   "cell_type": "code",
   "execution_count": null,
   "metadata": {
    "collapsed": true,
    "deletable": true,
    "editable": true
   },
   "outputs": [],
   "source": [
    "predictors_yearly_df = predictors_df.groupby('year').mean()\n",
    "cols = predictors_yearly_df.columns\n",
    "predictors_yearly_df = predictors_yearly_df.join(predictors_yearly_df[cols].shift(), rsuffix='_1y_shift')\n",
    "predictors_yearly_df = predictors_yearly_df.join(predictors_yearly_df[cols].shift(2), rsuffix='_2y_shift')\n",
    "predictors_yearly_df = predictors_yearly_df.loc[2003:2018]"
   ]
  },
  {
   "cell_type": "code",
   "execution_count": null,
   "metadata": {
    "collapsed": true,
    "deletable": true,
    "editable": true
   },
   "outputs": [],
   "source": [
    "predictors_yearly_df.head()"
   ]
  },
  {
   "cell_type": "markdown",
   "metadata": {
    "deletable": true,
    "editable": true
   },
   "source": [
    "# Read response data (Sponsored Students Counts)"
   ]
  },
  {
   "cell_type": "code",
   "execution_count": null,
   "metadata": {
    "collapsed": true,
    "deletable": true,
    "editable": true
   },
   "outputs": [],
   "source": [
    "response_df = pd.read_csv(\"data/sponsor_data_countrywise_backup.csv\").set_index('country')\n",
    "response_df.columns.name = 'year'\n",
    "response_df = response_df.stack()\n",
    "response_df.name = 'students_count'\n",
    "response_df = response_df.to_frame().reset_index()\n",
    "response_df['year'] = response_df.year.astype(int)\n",
    "response_df.to_csv('data/sponsored_students_counts.csv', index=False)"
   ]
  },
  {
   "cell_type": "code",
   "execution_count": null,
   "metadata": {
    "collapsed": true,
    "deletable": true,
    "editable": true
   },
   "outputs": [],
   "source": [
    "mask = response_df.country.apply(lambda x: re.search('.*Total.*', x) is None)\n",
    "response_df = response_df[mask]"
   ]
  },
  {
   "cell_type": "code",
   "execution_count": null,
   "metadata": {
    "collapsed": true,
    "deletable": true,
    "editable": true
   },
   "outputs": [],
   "source": [
    "years_df = response_df.groupby('year').students_count.sum().sort_index()\n",
    "\n",
    "traces = []\n",
    "traces.append(go.Bar(\n",
    "        x=years_df.index.values,\n",
    "        y=years_df.values,\n",
    "        name='Sponsored Student Count',\n",
    "        opacity = 0.5))\n",
    "\n",
    "\n",
    "layout = dict(\n",
    "    title = 'Total Number of Sponsored Students By Year',\n",
    "    xaxis = dict(title = 'Year'),\n",
    "    \n",
    "    yaxis = dict(\n",
    "        title = 'Number of Sponsored Students',\n",
    "        #range = [0, 250]\n",
    "    ),\n",
    "    \n",
    "    legend=dict(\n",
    "        x=0.3,\n",
    "        y=1.1,\n",
    "        traceorder='normal',\n",
    "        font=dict(\n",
    "            family='sans-serif',\n",
    "            size=12,\n",
    "            color='#000'\n",
    "        ),\n",
    "        orientation=\"h\"\n",
    "    )\n",
    ",\n",
    ")\n",
    "\n",
    "fig = dict(data=traces, layout=layout)\n",
    "iplot(fig)"
   ]
  },
  {
   "cell_type": "code",
   "execution_count": null,
   "metadata": {
    "collapsed": true,
    "deletable": true,
    "editable": true
   },
   "outputs": [],
   "source": [
    "top_countries_df = response_df.groupby('country').students_count.sum().sort_values(ascending=False).head(30)\n",
    "top_countries = top_countries_df.index.values"
   ]
  },
  {
   "cell_type": "code",
   "execution_count": null,
   "metadata": {
    "collapsed": true,
    "deletable": true,
    "editable": true
   },
   "outputs": [],
   "source": [
    "traces = []\n",
    "traces.append(go.Bar(\n",
    "        x=top_countries_df.index.values,\n",
    "        y=top_countries_df.values,\n",
    "        name='Sponsored Student Count',\n",
    "        opacity = 0.5))\n",
    "\n",
    "\n",
    "layout = dict(\n",
    "    title = 'Total Number of Sponsored Students By Top 30 Countries',\n",
    "    xaxis = dict(title = 'Year'),\n",
    "    \n",
    "    yaxis = dict(\n",
    "        title = 'Number of Sponsored Students',\n",
    "        #range = [0, 250]\n",
    "    ),\n",
    "    \n",
    "    legend=dict(\n",
    "        x=0.3,\n",
    "        y=1.1,\n",
    "        traceorder='normal',\n",
    "        font=dict(\n",
    "            family='sans-serif',\n",
    "            size=12,\n",
    "            color='#000'\n",
    "        ),\n",
    "        orientation=\"h\"\n",
    "    )\n",
    ",\n",
    ")\n",
    "\n",
    "fig = dict(data=traces, layout=layout)\n",
    "iplot(fig)"
   ]
  },
  {
   "cell_type": "code",
   "execution_count": null,
   "metadata": {
    "collapsed": true,
    "deletable": true,
    "editable": true
   },
   "outputs": [],
   "source": [
    "training_set = response_df.join(predictors_yearly_df, on='year')\n",
    "training_set.to_csv('data/training_set.csv')"
   ]
  },
  {
   "cell_type": "code",
   "execution_count": null,
   "metadata": {
    "collapsed": true,
    "deletable": true,
    "editable": true
   },
   "outputs": [],
   "source": [
    "training_set.set_index(['country', 'year'], inplace=True)"
   ]
  },
  {
   "cell_type": "markdown",
   "metadata": {
    "deletable": true,
    "editable": true
   },
   "source": [
    "# Visualise"
   ]
  },
  {
   "cell_type": "markdown",
   "metadata": {
    "deletable": true,
    "editable": true
   },
   "source": [
    "## Correlation"
   ]
  },
  {
   "cell_type": "code",
   "execution_count": null,
   "metadata": {
    "collapsed": true,
    "deletable": true,
    "editable": true
   },
   "outputs": [],
   "source": [
    "df = response_df.set_index(['country', 'year']).unstack('country')\n",
    "df.columns = df.columns.droplevel(0)\n",
    "df = df.loc[:2018][top_countries]"
   ]
  },
  {
   "cell_type": "code",
   "execution_count": null,
   "metadata": {
    "collapsed": true,
    "deletable": true,
    "editable": true
   },
   "outputs": [],
   "source": [
    "predictors_yearly_df.join(df)"
   ]
  },
  {
   "cell_type": "code",
   "execution_count": null,
   "metadata": {
    "collapsed": true,
    "deletable": true,
    "editable": true
   },
   "outputs": [],
   "source": [
    "correlation_df = predictors_yearly_df.join(df).corr()\n",
    "correlation_df = correlation_df[predictors_yearly_df.columns].loc[list(df.columns.values)]\n",
    "correlation_df"
   ]
  },
  {
   "cell_type": "markdown",
   "metadata": {
    "deletable": true,
    "editable": true
   },
   "source": [
    "## Heatmap"
   ]
  },
  {
   "cell_type": "code",
   "execution_count": null,
   "metadata": {
    "collapsed": true,
    "deletable": true,
    "editable": true
   },
   "outputs": [],
   "source": [
    "df = correlation_df.loc[correlation_df.index.values[::-1]]\n",
    "trace = go.Heatmap(z=df.values,\n",
    "                   x=df.columns.values,\n",
    "                   y=df.index.values)\n",
    "\n",
    "layout = go.Layout(\n",
    "    title=\"Correlation Between the Number of Sponsored Students and Commodity Indices\",\n",
    "    autosize=False,\n",
    "    width=900,\n",
    "    height=900)\n",
    "\n",
    "fig = go.Figure(data=[trace], layout=layout)\n",
    "iplot(fig)"
   ]
  },
  {
   "cell_type": "markdown",
   "metadata": {
    "deletable": true,
    "editable": true
   },
   "source": [
    "## Comparison Chart"
   ]
  },
  {
   "cell_type": "code",
   "execution_count": null,
   "metadata": {
    "collapsed": true,
    "deletable": true,
    "editable": true
   },
   "outputs": [],
   "source": [
    "predictors = ['Index',\n",
    "              'Energy index',\n",
    "              'Non-Fuel index',\n",
    "              #'Coal index', 'Natural gas index',\n",
    "       #'APSP crude oil_USD_per_bbl', 'Propane', 'Industrial Materials index',\n",
    "       #'Food and beverage index', 'Fertilizer'\n",
    "             ]"
   ]
  },
  {
   "cell_type": "code",
   "execution_count": null,
   "metadata": {
    "collapsed": true,
    "deletable": true,
    "editable": true
   },
   "outputs": [],
   "source": [
    "response_df"
   ]
  },
  {
   "cell_type": "code",
   "execution_count": null,
   "metadata": {
    "collapsed": true,
    "deletable": true,
    "editable": true
   },
   "outputs": [],
   "source": [
    "traces = []\n",
    "\n",
    "# Adding predictor lines\n",
    "for predictor in predictors:\n",
    "    traces.append(\n",
    "        go.Scatter(\n",
    "            x=predictors_yearly_df.index.values,\n",
    "            y=predictors_yearly_df[predictor].values,\n",
    "            name=predictor,\n",
    "            mode='lines'\n",
    "        ),\n",
    "    )\n",
    "\n",
    "# Adding response bar-chart by country\n",
    "#countries = np.sort(response_df.country.unique())\n",
    "countries = top_countries\n",
    "visibility = True\n",
    "for country in countries:\n",
    "    df = response_df[response_df.country == country]\n",
    "    x = df.year.values\n",
    "    traces.append(go.Bar(\n",
    "        x=x,\n",
    "        y=df.students_count,\n",
    "        yaxis='y2',\n",
    "        visible=visibility,\n",
    "        name='Sponsored Student Count',\n",
    "        opacity = 0.5))\n",
    "    visibility = False\n",
    "\n",
    "\n",
    "# Adding dropdown menu    \n",
    "buttons = []\n",
    "pr_count = len(predictors)\n",
    "for idx, county in enumerate(countries):\n",
    "    mask = [True] * pr_count + [False] * len(countries)\n",
    "    mask[pr_count + idx] = True\n",
    "    buttons.append(\n",
    "        dict(\n",
    "            label = county,\n",
    "            method = 'update',\n",
    "            args = [{'visible': mask}]\n",
    "        )\n",
    "    )\n",
    "    \n",
    "    \n",
    "layout = dict(\n",
    "    title = 'Trends in Commodity Prices and Number of Sponsored Students by Country',\n",
    "    xaxis = dict(title = 'Year'),\n",
    "    \n",
    "    yaxis = dict(\n",
    "        title = 'Commodity Index Value',\n",
    "        range = [0, 250]\n",
    "    ),\n",
    "    \n",
    "    yaxis2 = dict(\n",
    "        title='Sponsored Student Count',\n",
    "        overlaying='y',\n",
    "        side='right',\n",
    "        range=[0,800]\n",
    "        #position=0.15\n",
    "    ),\n",
    "    updatemenus = list([dict(\n",
    "            active=0,\n",
    "            pad = {'r': 0, 't': 0},\n",
    "            x = 0.0,\n",
    "            xanchor = 'left',\n",
    "            y = 1.1,\n",
    "            yanchor = 'top',\n",
    "            buttons=buttons)]),\n",
    "    legend=dict(\n",
    "        x=0.3,\n",
    "        y=1.1,\n",
    "        traceorder='normal',\n",
    "        font=dict(\n",
    "            family='sans-serif',\n",
    "            size=12,\n",
    "            color='#000'\n",
    "        ),\n",
    "        orientation=\"h\"\n",
    "    )\n",
    ",\n",
    ")\n",
    "\n",
    "\n",
    "fig = dict(data=traces, layout=layout)\n",
    "\n",
    "iplot(fig)"
   ]
  },
  {
   "cell_type": "code",
   "execution_count": null,
   "metadata": {
    "collapsed": true,
    "deletable": true,
    "editable": true
   },
   "outputs": [],
   "source": []
  },
  {
   "cell_type": "code",
   "execution_count": null,
   "metadata": {
    "collapsed": true,
    "deletable": true,
    "editable": true
   },
   "outputs": [],
   "source": []
  }
 ],
 "metadata": {
  "hide_input": false,
  "kernelspec": {
   "display_name": "Python 3",
   "language": "python",
   "name": "python3"
  },
  "language_info": {
   "codemirror_mode": {
    "name": "ipython",
    "version": 3
   },
   "file_extension": ".py",
   "mimetype": "text/x-python",
   "name": "python",
   "nbconvert_exporter": "python",
   "pygments_lexer": "ipython3",
   "version": "3.5.2"
  },
  "toc": {
   "nav_menu": {},
   "number_sections": true,
   "sideBar": true,
   "skip_h1_title": false,
   "toc_cell": false,
   "toc_position": {},
   "toc_section_display": "block",
   "toc_window_display": true
  }
 },
 "nbformat": 4,
 "nbformat_minor": 2
}
