{
 "cells": [
  {
   "cell_type": "code",
   "execution_count": 1,
   "metadata": {
    "collapsed": false,
    "deletable": true,
    "editable": true
   },
   "outputs": [
    {
     "name": "stdout",
     "output_type": "stream",
     "text": [
      "/Users/shijunyi/Desktop/学习资料/U of Melbourne/2019 Sem2/Data Science Project/[6] code/python\r\n"
     ]
    }
   ],
   "source": [
    "import numpy as np\n",
    "import pandas as pd\n",
    "from scipy.stats import pearsonr\n",
    "import math\n",
    "import re\n",
    "import os\n",
    "%matplotlib inline\n",
    "import matplotlib\n",
    "import matplotlib.pyplot as plt\n",
    "import plotly\n",
    "import plotly.graph_objs as go\n",
    "from plotly.offline import download_plotlyjs, init_notebook_mode, plot, iplot\n",
    "!pwd"
   ]
  },
  {
   "cell_type": "code",
   "execution_count": 2,
   "metadata": {
    "collapsed": false,
    "deletable": true,
    "editable": true
   },
   "outputs": [
    {
     "data": {
      "text/html": [
       "        <script type=\"text/javascript\">\n",
       "        window.PlotlyConfig = {MathJaxConfig: 'local'};\n",
       "        if (window.MathJax) {MathJax.Hub.Config({SVG: {font: \"STIX-Web\"}});}\n",
       "        if (typeof require !== 'undefined') {\n",
       "        require.undef(\"plotly\");\n",
       "        requirejs.config({\n",
       "            paths: {\n",
       "                'plotly': ['https://cdn.plot.ly/plotly-latest.min']\n",
       "            }\n",
       "        });\n",
       "        require(['plotly'], function(Plotly) {\n",
       "            window._Plotly = Plotly;\n",
       "        });\n",
       "        }\n",
       "        </script>\n",
       "        "
      ]
     },
     "metadata": {},
     "output_type": "display_data"
    }
   ],
   "source": [
    "pd.options.display.precision = 2\n",
    "pd.options.display.max_columns = 50\n",
    "matplotlib.rcParams['figure.figsize'] = [15, 10]\n",
    "init_notebook_mode(connected=True)"
   ]
  },
  {
   "cell_type": "code",
   "execution_count": 3,
   "metadata": {
    "collapsed": true,
    "deletable": true,
    "editable": true
   },
   "outputs": [],
   "source": [
    "src_countries = ['China', 'India', 'Indonesia', 'Malaysia']\n",
    "final_result_df = pd.DataFrame(\n",
    "                            columns = ['Source', 'Destination', 'Predictor', \n",
    "                                       'Shift', 'Correlation', 'P-value', 'Tested Corralation'])"
   ]
  },
  {
   "cell_type": "code",
   "execution_count": 4,
   "metadata": {
    "collapsed": false,
    "deletable": true,
    "editable": true
   },
   "outputs": [
    {
     "name": "stderr",
     "output_type": "stream",
     "text": [
      "/usr/local/lib/python3.7/site-packages/scipy/stats/stats.py:3399: PearsonRConstantInputWarning:\n",
      "\n",
      "An input array is constant; the correlation coefficent is not defined.\n",
      "\n"
     ]
    }
   ],
   "source": [
    "for src in src_countries:\n",
    "    #read data\n",
    "    factors_df = pd.read_csv('data/grouped_'+src+'.csv')\n",
    "    \n",
    "    #calculate correalation and p-value for each destination:\n",
    "    corr_dic={}\n",
    "    pvalue_dic = {}\n",
    "    tested_dic = {}\n",
    "    dest_countries = ['United States of America', 'United Kingdom', 'Australia', 'Canada', 'New Zealand']\n",
    "\n",
    "    #filter record for each destination:\n",
    "    for dest in dest_countries:\n",
    "        dest_factors = factors_df[factors_df['destination_country']== dest]\n",
    "        dest_factors = dest_factors.drop(['source_country', 'destination_country', 'dst_distance'],axis=1)\n",
    "        \n",
    "        #shift predictors by 1 and 2 years:\n",
    "        dest_factors.sort_values('year',inplace=True)\n",
    "        cols = dest_factors.columns\n",
    "        dest_factors = dest_factors.join(dest_factors[cols].shift(1), rsuffix='_1y_shift')\n",
    "        dest_factors = dest_factors.join(dest_factors[cols].shift(2), rsuffix='_2y_shift')\n",
    "        dest_factors = dest_factors.join(dest_factors[cols].shift(3), rsuffix='_3y_shift')\n",
    "        dest_factors = dest_factors.join(dest_factors[cols].shift(4), rsuffix='_4y_shift')\n",
    "        dest_factors = dest_factors.join(dest_factors[cols].shift(5), rsuffix='_5y_shift')\n",
    " \n",
    "        #rearrange cols:\n",
    "        new_col = [\n",
    "        'dst_students_count',\n",
    "        'year', 'year_1y_shift', 'year_2y_shift', 'year_3y_shift', 'year_4y_shift', 'year_5y_shift',\n",
    "        'dst_average_wage', 'dst_average_wage_1y_shift', 'dst_average_wage_2y_shift',\n",
    "        'dst_average_wage_3y_shift', 'dst_average_wage_4y_shift', 'dst_average_wage_5y_shift',\n",
    "        'dst_rate_of_one_usd', 'dst_rate_of_one_usd_1y_shift', 'dst_rate_of_one_usd_2y_shift',\n",
    "        'dst_rate_of_one_usd_3y_shift', 'dst_rate_of_one_usd_4y_shift', 'dst_rate_of_one_usd_5y_shift',\n",
    "        'dst_cpi', 'dst_cpi_1y_shift', 'dst_cpi_2y_shift',\n",
    "        'dst_cpi_3y_shift', 'dst_cpi_4y_shift', 'dst_cpi_5y_shift',\n",
    "        'dst_qoe_top20', 'dst_qoe_top20_1y_shift' , 'dst_qoe_top20_2y_shift',\n",
    "        'dst_qoe_top20_3y_shift', 'dst_qoe_top20_4y_shift', 'dst_qoe_top20_5y_shift',\n",
    "        'dst_qoe_top100', 'dst_qoe_top100_1y_shift', 'dst_qoe_top100_2y_shift',\n",
    "        'dst_qoe_top100_3y_shift', 'dst_qoe_top100_4y_shift', 'dst_qoe_top100_5y_shift',\n",
    "        'dst_qoe_top200', 'dst_qoe_top200_1y_shift', 'dst_qoe_top200_2y_shift',\n",
    "        'dst_qoe_top200_3y_shift', 'dst_qoe_top200_4y_shift', 'dst_qoe_top200_5y_shift',\n",
    "        'dst_qoe_top500', 'dst_qoe_top500_1y_shift', 'dst_qoe_top500_2y_shift',\n",
    "        'dst_qoe_top500_3y_shift', 'dst_qoe_top500_4y_shift', 'dst_qoe_top500_5y_shift',\n",
    "        'src_population', 'src_population_1y_shift', 'src_population_2y_shift',\n",
    "        'src_population_3y_shift', 'src_population_4y_shift', 'src_population_5y_shift',\n",
    "        'src_qoe_top20', 'src_qoe_top20_1y_shift', 'src_qoe_top20_2y_shift',\n",
    "        'src_qoe_top20_3y_shift', 'src_qoe_top20_4y_shift', 'src_qoe_top20_5y_shift',\n",
    "        'src_qoe_top100', 'src_qoe_top100_1y_shift', 'src_qoe_top100_2y_shift',\n",
    "        'src_qoe_top100_3y_shift', 'src_qoe_top100_4y_shift', 'src_qoe_top100_5y_shift',\n",
    "        'src_qoe_top200', 'src_qoe_top200_1y_shift', 'src_qoe_top200_2y_shift',\n",
    "        'src_qoe_top200_3y_shift', 'src_qoe_top200_4y_shift', 'src_qoe_top200_5y_shift',\n",
    "        'src_qoe_top500', 'src_qoe_top500_1y_shift', 'src_qoe_top500_2y_shift',\n",
    "        'src_qoe_top500_3y_shift', 'src_qoe_top500_4y_shift', 'src_qoe_top500_5y_shift',\n",
    "        'src_gni', 'src_gni_1y_shift', 'src_gni_2y_shift', \n",
    "        'src_gni_3y_shift', 'src_gni_4y_shift', 'src_gni_5y_shift',\n",
    "        'src_gdp', 'src_gdp_1y_shift', 'src_gdp_2y_shift', \n",
    "        'src_gdp_3y_shift', 'src_gdp_4y_shift', 'src_gdp_5y_shift',\n",
    "        'src_rate_of_one_usd', 'src_rate_of_one_usd_1y_shift', 'src_rate_of_one_usd_2y_shift', \n",
    "        'src_rate_of_one_usd_3y_shift', 'src_rate_of_one_usd_4y_shift', 'src_rate_of_one_usd_5y_shift',\n",
    "        'src_tertiary_enrolment', 'src_tertiary_enrolment_1y_shift', 'src_tertiary_enrolment_2y_shift', \n",
    "        'src_tertiary_enrolment_3y_shift', 'src_tertiary_enrolment_4y_shift', 'src_tertiary_enrolment_5y_shift'\n",
    "        ]\n",
    "        dest_factors = dest_factors[new_col]\n",
    "        \n",
    "        #dic of predictors:\n",
    "        i = 0\n",
    "        predictors = {\n",
    "                        0:[],\n",
    "                        1:[],\n",
    "                        2:[],\n",
    "                        3:[],\n",
    "                        4:[],\n",
    "                        5:[]\n",
    "        }\n",
    "        for pred in dest_factors.columns.values[1:]:\n",
    "            predictors[i].append(pred)\n",
    "            if i != 5:\n",
    "                i += 1\n",
    "            else:\n",
    "                i = 0\n",
    "        # calculating corr and pvalue:\n",
    "        c_dic = {}\n",
    "        p_dic = {}\n",
    "        t_dic = {}\n",
    "        for k,lst in predictors.items():\n",
    "            for pred in lst:\n",
    "                #calculate:\n",
    "                c_p_pair = pearsonr(dest_factors['dst_students_count'][k:],dest_factors[pred][k:])\n",
    "                corr = c_p_pair[0]\n",
    "                pvalue = c_p_pair[1]\n",
    "                \n",
    "                p_dic[pred] = pvalue\n",
    "                c_dic[pred] = corr\n",
    "                if pvalue is None or pvalue > 0.05:  #cannot reject H0, the corr is not sig\n",
    "                    tested_corr = np.nan\n",
    "                else:\n",
    "                    tested_corr = corr\n",
    "                t_dic[pred] = tested_corr\n",
    "                \n",
    "                #fill final_result_df:\n",
    "                if k == 0:\n",
    "                    pred_name = pred\n",
    "                else:\n",
    "                    sep = '_'+str(k)+'y'\n",
    "                    pred_name = pred.split(sep)[0]\n",
    "                    \n",
    "                final_result_df = final_result_df.append(\n",
    "                    pd.DataFrame({'Source':src,\n",
    "                                  'Destination': dest,\n",
    "                                  'Predictor':pred_name,\n",
    "                                  'Shift': k,\n",
    "                                  'Correlation': corr,\n",
    "                                  'P-value': pvalue,\n",
    "                                  'Tested Corralation': tested_corr\n",
    "                                 }, index = [0]),\n",
    "                    ignore_index=True)\n",
    "\n",
    "        corr_dic[dest] = c_dic\n",
    "        pvalue_dic[dest] = p_dic \n",
    "        tested_dic[dest] = t_dic\n",
    "    \n",
    "    corr_df = pd.DataFrame(corr_dic)\n",
    "    corr_df = corr_df.reindex(index = new_col[1:])\n",
    "    pvalue_df = pd.DataFrame(pvalue_dic)\n",
    "    pvalue_df = pvalue_df.reindex(index = new_col[1:])\n",
    "    tested_df = pd.DataFrame(tested_dic)\n",
    "    tested_df = pvalue_df.reindex(index = new_col[1:])\n",
    "    \n",
    "    #save the corraltion table, p-value table:\n",
    "    #corr_df.to_csv(path_or_buf = 'output/Source_Destination_Count_correlation_'+src+'.csv')\n",
    "    #pvalue_df.to_csv(path_or_buf = 'output/Source_Destination_Count_pvalue_'+src+'.csv')\n",
    "\n",
    "\n",
    "#save finel result table:\n",
    "final_result_df.to_csv(path_or_buf = 'output/correlation_table_with_5_year_shift.csv')\n"
   ]
  },
  {
   "cell_type": "markdown",
   "metadata": {
    "collapsed": false,
    "deletable": true,
    "editable": true,
    "scrolled": false
   },
   "source": [
    "  \n",
    "    #plot:\n",
    "    trace = go.Heatmap(z=corr_pvalues_df.values,\n",
    "                        x=corr_pvalues_df.columns.values,\n",
    "                        y=corr_pvalues_df.index.values,\n",
    "                        colorscale='spectral',\n",
    "                        reversescale=True)\n",
    "\n",
    "    layout = go.Layout(\n",
    "        title=\"Correlation Between Predcitors and Student Count from \"+src,\n",
    "        autosize=False,\n",
    "        width=1000,\n",
    "        height=2000,\n",
    "        yaxis = dict(visible  = True,\n",
    "                    constraintoward = 'left')\n",
    "        )\n",
    "\n",
    "\n",
    "    fig = go.Figure(data=trace, layout=layout)\n",
    "    iplot(fig)\n",
    "        "
   ]
  },
  {
   "cell_type": "code",
   "execution_count": null,
   "metadata": {
    "collapsed": true,
    "deletable": true,
    "editable": true
   },
   "outputs": [],
   "source": []
  }
 ],
 "metadata": {
  "kernelspec": {
   "display_name": "PyCharm (Desktop)",
   "language": "python",
   "name": "pycharm-db28d4c2"
  },
  "language_info": {
   "codemirror_mode": {
    "name": "ipython",
    "version": 3
   },
   "file_extension": ".py",
   "mimetype": "text/x-python",
   "name": "python",
   "nbconvert_exporter": "python",
   "pygments_lexer": "ipython3",
   "version": "3.7.3"
  }
 },
 "nbformat": 4,
 "nbformat_minor": 2
}
