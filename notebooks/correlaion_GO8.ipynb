{
 "cells": [
  {
   "cell_type": "code",
   "execution_count": 1,
   "metadata": {
    "collapsed": false,
    "deletable": true,
    "editable": true
   },
   "outputs": [
    {
     "name": "stdout",
     "output_type": "stream",
     "text": [
      "/Users/shijunyi/Desktop/学习资料/U of Melbourne/2019 Sem2/Data Science Project/[6] code/python\r\n"
     ]
    }
   ],
   "source": [
    "import numpy as np\n",
    "import pandas as pd\n",
    "from scipy.stats import pearsonr\n",
    "import math\n",
    "import re\n",
    "import os\n",
    "%matplotlib inline\n",
    "import matplotlib\n",
    "import matplotlib.pyplot as plt\n",
    "import plotly\n",
    "import plotly.graph_objs as go\n",
    "from plotly.offline import download_plotlyjs, init_notebook_mode, plot, iplot\n",
    "!pwd"
   ]
  },
  {
   "cell_type": "code",
   "execution_count": 2,
   "metadata": {
    "collapsed": false,
    "deletable": true,
    "editable": true
   },
   "outputs": [
    {
     "data": {
      "text/html": [
       "        <script type=\"text/javascript\">\n",
       "        window.PlotlyConfig = {MathJaxConfig: 'local'};\n",
       "        if (window.MathJax) {MathJax.Hub.Config({SVG: {font: \"STIX-Web\"}});}\n",
       "        if (typeof require !== 'undefined') {\n",
       "        require.undef(\"plotly\");\n",
       "        requirejs.config({\n",
       "            paths: {\n",
       "                'plotly': ['https://cdn.plot.ly/plotly-latest.min']\n",
       "            }\n",
       "        });\n",
       "        require(['plotly'], function(Plotly) {\n",
       "            window._Plotly = Plotly;\n",
       "        });\n",
       "        }\n",
       "        </script>\n",
       "        "
      ]
     },
     "metadata": {},
     "output_type": "display_data"
    }
   ],
   "source": [
    "pd.options.display.precision = 2\n",
    "pd.options.display.max_columns = 50\n",
    "matplotlib.rcParams['figure.figsize'] = [15, 10]\n",
    "init_notebook_mode(connected=True)\n",
    "import warnings\n",
    "warnings.filterwarnings(\"ignore\")"
   ]
  },
  {
   "cell_type": "code",
   "execution_count": 3,
   "metadata": {
    "collapsed": false,
    "deletable": true,
    "editable": true
   },
   "outputs": [],
   "source": [
    "#read data\n",
    "dataset = pd.read_csv('data/for_uom_go8_corr.csv')\n",
    "src_countries = ['China', 'India', 'Indonesia', 'Malaysia']\n",
    "final_result_df = pd.DataFrame(\n",
    "                            columns = ['Source', 'Count Name', 'Count Type', 'Predictor', \n",
    "                                       'Shift', 'Correlation', 'P-value', 'Tested Corralation']\n",
    "                              )"
   ]
  },
  {
   "cell_type": "code",
   "execution_count": 4,
   "metadata": {
    "collapsed": true,
    "deletable": true,
    "editable": true
   },
   "outputs": [],
   "source": [
    "for src in src_countries:\n",
    "    # filter rows from one source country:\n",
    "    factors_df = dataset.loc[dataset['source_country'] == src]\n",
    "\n",
    "    #shift predictors by years:\n",
    "    factors_df.sort_values('year',inplace=True)\n",
    "    cols = factors_df.columns\n",
    "    factors_df = factors_df.join(factors_df[cols].shift(1), rsuffix='_1y_shift')\n",
    "    factors_df = factors_df.join(factors_df[cols].shift(2), rsuffix='_2y_shift')\n",
    "    factors_df = factors_df.join(factors_df[cols].shift(3), rsuffix='_3y_shift')\n",
    "    factors_df = factors_df.join(factors_df[cols].shift(4), rsuffix='_4y_shift')\n",
    "    factors_df = factors_df.join(factors_df[cols].shift(5), rsuffix='_5y_shift')\n",
    "\n",
    "    #calculate additional student count\n",
    "    factors_df['AUS_no_GO8_count'] = factors_df['Australia_count'] - factors_df['GO8_count']\n",
    "    factors_df['GO8_no_UOM_count'] = factors_df['GO8_count'] - factors_df['UOM_count']\n",
    "    factors_df['UOM/GO8'] = factors_df['UOM_count'] / factors_df['GO8_count']\n",
    "    factors_df['GO8/AUS'] = factors_df['GO8_count'] / factors_df['Australia_count']\n",
    "\n",
    "\n",
    "    #rearrange cols:\n",
    "    new_col = ['UOM_count', 'GO8_count', 'Australia_count', 'AUS_no_GO8_count', 'GO8_no_UOM_count', 'UOM/GO8', 'GO8/AUS', \n",
    "     'year', 'year_1y_shift', 'year_2y_shift', 'year_3y_shift', 'year_4y_shift', 'year_5y_shift',\n",
    "     'src_population', 'src_population_1y_shift', 'src_population_2y_shift', 'src_population_3y_shift', 'src_population_4y_shift', 'src_population_5y_shift',\n",
    "     'src_qoe_top20', 'src_qoe_top20_1y_shift', 'src_qoe_top20_2y_shift',\n",
    "     'src_qoe_top20_3y_shift', 'src_qoe_top20_4y_shift', 'src_qoe_top20_5y_shift',\n",
    "     'src_qoe_top100', 'src_qoe_top100_1y_shift', 'src_qoe_top100_2y_shift',\n",
    "     'src_qoe_top100_3y_shift', 'src_qoe_top100_4y_shift', 'src_qoe_top100_5y_shift',\n",
    "     'src_qoe_top200', 'src_qoe_top200_1y_shift', 'src_qoe_top200_2y_shift',\n",
    "     'src_qoe_top200_3y_shift', 'src_qoe_top200_4y_shift', 'src_qoe_top200_5y_shift',\n",
    "     'src_qoe_top500', 'src_qoe_top500_1y_shift', 'src_qoe_top500_2y_shift',\n",
    "     'src_qoe_top500_3y_shift', 'src_qoe_top500_4y_shift', 'src_qoe_top500_5y_shift',\n",
    "     'src_gni', 'src_gni_1y_shift', 'src_gni_2y_shift', \n",
    "     'src_gni_3y_shift', 'src_gni_4y_shift', 'src_gni_5y_shift', \n",
    "     'src_gdp', 'src_gdp_1y_shift', 'src_gdp_2y_shift', \n",
    "     'src_gdp_3y_shift', 'src_gdp_4y_shift', 'src_gdp_5y_shift', \n",
    "     'src_rate_of_one_usd', 'src_rate_of_one_usd_1y_shift', 'src_rate_of_one_usd_2y_shift', \n",
    "     'src_rate_of_one_usd_3y_shift', 'src_rate_of_one_usd_4y_shift', 'src_rate_of_one_usd_5y_shift', \n",
    "     'src_tertiary_enrolment', 'src_tertiary_enrolment_1y_shift', 'src_tertiary_enrolment_2y_shift', \n",
    "     'src_tertiary_enrolment_3y_shift', 'src_tertiary_enrolment_4y_shift', 'src_tertiary_enrolment_5y_shift'\n",
    "    ]\n",
    "    factors_df = factors_df[new_col]\n",
    "    #save the factor table:\n",
    "    factors_df.to_csv(path_or_buf = 'output/UOM_GO8_factors_'+src+'.csv')\n",
    "    \n",
    "    #counts:\n",
    "    counts = factors_df.columns.values[0:7]\n",
    "    original_counts = counts[0:3]\n",
    "    transformed_counts = counts[3:5]\n",
    "    percentage_counts = counts[5:]\n",
    "    \n",
    "    #predictors:\n",
    "    predictors_with_shift = factors_df.columns.values[7:]\n",
    "    i = 0\n",
    "    predictors = {\n",
    "        0:[],\n",
    "        1:[],\n",
    "        2:[],\n",
    "        3:[],\n",
    "        4:[],\n",
    "        5:[]}\n",
    "    for pred in predictors_with_shift:\n",
    "        predictors[i].append(pred)\n",
    "        if i != 5:\n",
    "            i += 1\n",
    "        else:\n",
    "            i = 0\n",
    "    \n",
    "    #prepare empty tables:\n",
    "    pvalue_df = pd.DataFrame(\n",
    "                            columns = counts,\n",
    "                            index = predictors_with_shift)\n",
    "    corr_df = pd.DataFrame( \n",
    "                            columns = counts,\n",
    "                            index = predictors_with_shift)\n",
    "    tested_df = pd.DataFrame( \n",
    "                            columns = counts,\n",
    "                            index = predictors_with_shift)\n",
    "    \n",
    "    #calculating corr and pvalue:\n",
    "    for cnt in counts:\n",
    "        for k, lst in predictors.items():\n",
    "            for pred in lst:\n",
    "                #calculate:\n",
    "                c_p_pair = pearsonr(factors_df[cnt][k:],factors_df[pred][k:])\n",
    "                corr = c_p_pair[0]\n",
    "                pvalue = c_p_pair[1]\n",
    "                \n",
    "                #fill corr table and pvalue table:\n",
    "                pvalue_df.at[pred, cnt] = pvalue\n",
    "                corr_df.at[pred, cnt] = corr\n",
    "                if pvalue is None or pvalue > 0.05:  #cannot reject H0, the corr is not sig\n",
    "                    tested_corr = np.nan\n",
    "                else:\n",
    "                    tested_corr = corr\n",
    "                tested_df.at[pred, cnt] = tested_corr\n",
    "                \n",
    "                #fill final_result_df:\n",
    "                if cnt in original_counts:\n",
    "                    typ = 'original'\n",
    "                elif cnt in transformed_counts:\n",
    "                    typ = 'transformed'\n",
    "                else:\n",
    "                    typ = 'percentage'\n",
    "                \n",
    "                if k == 0:\n",
    "                    pred_name = pred\n",
    "                else:\n",
    "                    sep = '_'+str(k)+'y'\n",
    "                    pred_name = pred.split(sep)[0]\n",
    "                    \n",
    "                final_result_df = final_result_df.append(\n",
    "                    pd.DataFrame({'Source':src,\n",
    "                                  'Count Name': cnt,\n",
    "                                  'Count Type': typ,\n",
    "                                  'Predictor':pred_name,\n",
    "                                  'Shift': k,\n",
    "                                  'Correlation': corr,\n",
    "                                  'P-value': pvalue,\n",
    "                                  'Tested Corralation': tested_corr\n",
    "                                 }, index = [0]),\n",
    "                    ignore_index=True)\n",
    "\n",
    "                \n",
    "    #save the corraltion table, p-value table:\n",
    "    #corr_df.to_csv(path_or_buf = 'output/UOM_GO8_correlation_'+src+'.csv')\n",
    "    #pvalue_df.to_csv(path_or_buf = 'output/UOM_GO8_pvalue_'+src+'.csv')\n",
    "    \n",
    "#save finel result table:\n",
    "final_result_df.to_csv(path_or_buf = 'output/correlation_table_UOM_GO8_AUS.csv')\n",
    "    "
   ]
  },
  {
   "cell_type": "markdown",
   "metadata": {
    "collapsed": false,
    "deletable": true,
    "editable": true
   },
   "source": [
    "    #plot:\n",
    "    trace = go.Heatmap(z=corr_df.values,\n",
    "                       x=corr_df.columns.values,\n",
    "                       y=corr_df.index.values,\n",
    "                       colorscale='spectral',\n",
    "                       reversescale=True)\n",
    "    \n",
    "    layout = go.Layout(\n",
    "    title=\"Correlation Between Predcitors and Student Count from \"+src,\n",
    "    autosize=False,\n",
    "    width=1000,\n",
    "    height=2000,\n",
    "    yaxis = dict(visible  = True,\n",
    "                constraintoward = 'left')\n",
    "    )\n",
    "\n",
    "\n",
    "    fig = go.Figure(data=trace, layout=layout)\n",
    "    iplot(fig)"
   ]
  },
  {
   "cell_type": "code",
   "execution_count": null,
   "metadata": {
    "collapsed": true,
    "deletable": true,
    "editable": true
   },
   "outputs": [],
   "source": []
  }
 ],
 "metadata": {
  "kernelspec": {
   "display_name": "PyCharm (Desktop)",
   "language": "python",
   "name": "pycharm-db28d4c2"
  },
  "language_info": {
   "codemirror_mode": {
    "name": "ipython",
    "version": 3
   },
   "file_extension": ".py",
   "mimetype": "text/x-python",
   "name": "python",
   "nbconvert_exporter": "python",
   "pygments_lexer": "ipython3",
   "version": "3.7.3"
  }
 },
 "nbformat": 4,
 "nbformat_minor": 2
}
